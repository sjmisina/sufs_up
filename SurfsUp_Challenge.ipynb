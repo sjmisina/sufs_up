{
 "cells": [
  {
   "cell_type": "code",
   "execution_count": 1,
   "metadata": {},
   "outputs": [],
   "source": [
    "# Dependencies\n",
    "import numpy as np\n",
    "import pandas as pd\n",
    "import matplotlib.pyplot as plt\n",
    "\n",
    "# Python SQL toolkit and Object Relational Mapper\n",
    "import sqlalchemy\n",
    "from sqlalchemy.ext.automap import automap_base\n",
    "from sqlalchemy.orm import Session\n",
    "from sqlalchemy import create_engine, func"
   ]
  },
  {
   "cell_type": "code",
   "execution_count": 2,
   "metadata": {},
   "outputs": [],
   "source": [
    "engine = create_engine(\"sqlite:///hawaii.sqlite\")\n",
    "\n",
    "# reflect an existing database into a new model\n",
    "Base = automap_base()\n",
    "# reflect the tables\n",
    "Base.prepare(engine, reflect=True)\n",
    "\n",
    "# Save references to each table\n",
    "Measurement = Base.classes.measurement\n",
    "Station = Base.classes.station"
   ]
  },
  {
   "cell_type": "code",
   "execution_count": 3,
   "metadata": {},
   "outputs": [],
   "source": [
    "# Create our session (link) from Python to the DB\n",
    "session = Session(engine)"
   ]
  },
  {
   "cell_type": "markdown",
   "metadata": {},
   "source": [
    "## D1: Determine the Summary Statistics for June"
   ]
  },
  {
   "cell_type": "code",
   "execution_count": 4,
   "metadata": {},
   "outputs": [],
   "source": [
    "# 1. Import the sqlalchemy extract function.\n",
    "from sqlalchemy import extract\n",
    "\n",
    "# 2. Write a query that filters the Measurement table to retrieve the temperatures for the month of June. \n",
    "results_1 = session.query(Measurement.date, Measurement.tobs).filter(extract('month', Measurement.date) == '06').all()"
   ]
  },
  {
   "cell_type": "code",
   "execution_count": 5,
   "metadata": {},
   "outputs": [],
   "source": [
    "#  3. Convert the June temperatures to a list.\n",
    "june_results = list(results_1)"
   ]
  },
  {
   "cell_type": "code",
   "execution_count": 6,
   "metadata": {},
   "outputs": [],
   "source": [
    "# 4. Create a DataFrame from the list of temperatures for the month of June. \n",
    "june_df = pd.DataFrame(june_results, columns = ['index','June Temps'])"
   ]
  },
  {
   "cell_type": "code",
   "execution_count": 7,
   "metadata": {},
   "outputs": [
    {
     "data": {
      "text/html": [
       "<div>\n",
       "<style scoped>\n",
       "    .dataframe tbody tr th:only-of-type {\n",
       "        vertical-align: middle;\n",
       "    }\n",
       "\n",
       "    .dataframe tbody tr th {\n",
       "        vertical-align: top;\n",
       "    }\n",
       "\n",
       "    .dataframe thead th {\n",
       "        text-align: right;\n",
       "    }\n",
       "</style>\n",
       "<table border=\"1\" class=\"dataframe\">\n",
       "  <thead>\n",
       "    <tr style=\"text-align: right;\">\n",
       "      <th></th>\n",
       "      <th>June Temps</th>\n",
       "    </tr>\n",
       "  </thead>\n",
       "  <tbody>\n",
       "    <tr>\n",
       "      <th>count</th>\n",
       "      <td>1700.000000</td>\n",
       "    </tr>\n",
       "    <tr>\n",
       "      <th>mean</th>\n",
       "      <td>74.944118</td>\n",
       "    </tr>\n",
       "    <tr>\n",
       "      <th>std</th>\n",
       "      <td>3.257417</td>\n",
       "    </tr>\n",
       "    <tr>\n",
       "      <th>min</th>\n",
       "      <td>64.000000</td>\n",
       "    </tr>\n",
       "    <tr>\n",
       "      <th>25%</th>\n",
       "      <td>73.000000</td>\n",
       "    </tr>\n",
       "    <tr>\n",
       "      <th>50%</th>\n",
       "      <td>75.000000</td>\n",
       "    </tr>\n",
       "    <tr>\n",
       "      <th>75%</th>\n",
       "      <td>77.000000</td>\n",
       "    </tr>\n",
       "    <tr>\n",
       "      <th>max</th>\n",
       "      <td>85.000000</td>\n",
       "    </tr>\n",
       "  </tbody>\n",
       "</table>\n",
       "</div>"
      ],
      "text/plain": [
       "        June Temps\n",
       "count  1700.000000\n",
       "mean     74.944118\n",
       "std       3.257417\n",
       "min      64.000000\n",
       "25%      73.000000\n",
       "50%      75.000000\n",
       "75%      77.000000\n",
       "max      85.000000"
      ]
     },
     "execution_count": 7,
     "metadata": {},
     "output_type": "execute_result"
    }
   ],
   "source": [
    "# 5. Calculate and print out the summary statistics for the June temperature DataFrame.\n",
    "june_df.describe()"
   ]
  },
  {
   "cell_type": "markdown",
   "metadata": {},
   "source": [
    "## D2: Determine the Summary Statistics for December"
   ]
  },
  {
   "cell_type": "code",
   "execution_count": 8,
   "metadata": {},
   "outputs": [],
   "source": [
    "# 6. Write a query that filters the Measurement table to retrieve the temperatures for the month of December.\n",
    "results_2 = session.query(Measurement.date, Measurement.tobs).filter(extract('month', Measurement.date) == '12').all()"
   ]
  },
  {
   "cell_type": "code",
   "execution_count": 9,
   "metadata": {},
   "outputs": [],
   "source": [
    "# 7. Convert the December temperatures to a list.\n",
    "dec_results = list(results_2)"
   ]
  },
  {
   "cell_type": "code",
   "execution_count": 10,
   "metadata": {},
   "outputs": [],
   "source": [
    "# 8. Create a DataFrame from the list of temperatures for the month of December. \n",
    "dec_df = pd.DataFrame(dec_results, columns=['index', 'December Temps'])"
   ]
  },
  {
   "cell_type": "code",
   "execution_count": 11,
   "metadata": {},
   "outputs": [
    {
     "data": {
      "text/html": [
       "<div>\n",
       "<style scoped>\n",
       "    .dataframe tbody tr th:only-of-type {\n",
       "        vertical-align: middle;\n",
       "    }\n",
       "\n",
       "    .dataframe tbody tr th {\n",
       "        vertical-align: top;\n",
       "    }\n",
       "\n",
       "    .dataframe thead th {\n",
       "        text-align: right;\n",
       "    }\n",
       "</style>\n",
       "<table border=\"1\" class=\"dataframe\">\n",
       "  <thead>\n",
       "    <tr style=\"text-align: right;\">\n",
       "      <th></th>\n",
       "      <th>December Temps</th>\n",
       "    </tr>\n",
       "  </thead>\n",
       "  <tbody>\n",
       "    <tr>\n",
       "      <th>count</th>\n",
       "      <td>1517.000000</td>\n",
       "    </tr>\n",
       "    <tr>\n",
       "      <th>mean</th>\n",
       "      <td>71.041529</td>\n",
       "    </tr>\n",
       "    <tr>\n",
       "      <th>std</th>\n",
       "      <td>3.745920</td>\n",
       "    </tr>\n",
       "    <tr>\n",
       "      <th>min</th>\n",
       "      <td>56.000000</td>\n",
       "    </tr>\n",
       "    <tr>\n",
       "      <th>25%</th>\n",
       "      <td>69.000000</td>\n",
       "    </tr>\n",
       "    <tr>\n",
       "      <th>50%</th>\n",
       "      <td>71.000000</td>\n",
       "    </tr>\n",
       "    <tr>\n",
       "      <th>75%</th>\n",
       "      <td>74.000000</td>\n",
       "    </tr>\n",
       "    <tr>\n",
       "      <th>max</th>\n",
       "      <td>83.000000</td>\n",
       "    </tr>\n",
       "  </tbody>\n",
       "</table>\n",
       "</div>"
      ],
      "text/plain": [
       "       December Temps\n",
       "count     1517.000000\n",
       "mean        71.041529\n",
       "std          3.745920\n",
       "min         56.000000\n",
       "25%         69.000000\n",
       "50%         71.000000\n",
       "75%         74.000000\n",
       "max         83.000000"
      ]
     },
     "execution_count": 11,
     "metadata": {},
     "output_type": "execute_result"
    }
   ],
   "source": [
    "# 9. Calculate and print out the summary statistics for the Decemeber temperature DataFrame.\n",
    "dec_df.describe()"
   ]
  },
  {
   "cell_type": "markdown",
   "metadata": {},
   "source": [
    "### Create one line chart with two axes to see average temperatures and precipitation month to month"
   ]
  },
  {
   "cell_type": "code",
   "execution_count": 12,
   "metadata": {},
   "outputs": [],
   "source": [
    "monthly_temp = pd.DataFrame()"
   ]
  },
  {
   "cell_type": "code",
   "execution_count": 13,
   "metadata": {},
   "outputs": [],
   "source": [
    "month_list = [{'01':'January'},\\\n",
    "              {'02':'February'},\\\n",
    "              {'03':'March'},\\\n",
    "              {'04':'April'},\\\n",
    "              {'05':'May'},\\\n",
    "              {'06':'June'},\\\n",
    "              {'07':'July'},\\\n",
    "              {'08':'August'},\\\n",
    "              {'09':'September'},\\\n",
    "              {'10':'October'},\\\n",
    "              {'11':'November'},\\\n",
    "              {'12':'December'}]                      "
   ]
  },
  {
   "cell_type": "code",
   "execution_count": 14,
   "metadata": {},
   "outputs": [],
   "source": [
    "# the key was the df_dic the month the iterration was on df_dic = {df_dic[month] : dataframe of temps}\n",
    "df_dic = {}\n",
    "proj_df = pd.DataFrame()\n",
    "df_combo = pd.DataFrame()\n",
    "\n",
    "for dic in month_list:\n",
    "    for key, val in dic.items():\n",
    "        avg_temp = session.query(Measurement.tobs).\\\n",
    "                filter(extract('month', Measurement.date) == key).all()\n",
    "        df_dic[val] = pd.DataFrame(avg_temp, columns=[val])\n",
    "        df_combo = pd.concat([df_combo, df_dic[val]])"
   ]
  },
  {
   "cell_type": "code",
   "execution_count": 15,
   "metadata": {},
   "outputs": [],
   "source": [
    "new_df = df_combo.describe()\n",
    "new_df = new_df.transpose()\n",
    "new_df.index.name = 'Month'\n",
    "new_df = new_df.drop(['count','25%','50%','75%','std'], axis=1)\n",
    "new_df_t = new_df.add_prefix('t_')"
   ]
  },
  {
   "cell_type": "code",
   "execution_count": 16,
   "metadata": {},
   "outputs": [],
   "source": [
    "#same logic as above, just with precipitation table\n",
    "df_dic = {}\n",
    "df_combo=pd.DataFrame()\n",
    "\n",
    "for dic in month_list:\n",
    "    for key, val in dic.items():\n",
    "        avg_prcp = session.query(Measurement.prcp).\\\n",
    "                filter(extract('month', Measurement.date) == key).all()\n",
    "        df_dic[val] = pd.DataFrame(avg_prcp, columns=[val])\n",
    "        df_combo = pd.concat([df_combo, df_dic[val]])"
   ]
  },
  {
   "cell_type": "code",
   "execution_count": 17,
   "metadata": {},
   "outputs": [],
   "source": [
    "new_df = df_combo.describe()\n",
    "new_df = new_df.transpose()\n",
    "new_df.index.name = 'Month'\n",
    "new_df = new_df.drop(['count','25%','50%','75%','std'], axis=1)\n",
    "new_df_p = new_df.add_prefix('p_')"
   ]
  },
  {
   "cell_type": "code",
   "execution_count": 18,
   "metadata": {},
   "outputs": [],
   "source": [
    "# Create shortened month names to declutter graph\n",
    "proj_df = (new_df_t.join(new_df_p))\n",
    "xaxis_labels = proj_df.index.str[:3]"
   ]
  },
  {
   "cell_type": "code",
   "execution_count": 19,
   "metadata": {},
   "outputs": [
    {
     "data": {
      "image/png": "[encoded data removed]",
      "text/plain": [
       "<Figure size 432x288 with 2 Axes>"
      ]
     },
     "metadata": {
      "needs_background": "light"
     },
     "output_type": "display_data"
    }
   ],
   "source": [
    "# create figure and axis objects with subplots()\n",
    "fig,ax1=plt.subplots()\n",
    "ax2 = ax1.twinx()\n",
    "\n",
    "xaxis = proj_df.index.values.tolist()\n",
    "xaxis = proj_df.index.str[:3]\n",
    "# yaxis = proj_df.t_mean.values.tolist()\n",
    "# yaxis2 = proj_df.p_mean.values.tolist()\n",
    "\n",
    "yaxis = proj_df.t_mean.values.tolist()\n",
    "ax1.plot(xaxis,yaxis,color='red',marker='s')\n",
    "\n",
    "yaxis2 = proj_df.p_mean.values.tolist()\n",
    "ax2.plot(xaxis,yaxis2,color='blue',marker='o')\n",
    "\n",
    "ax1.set_ylabel('Average Temp',color='red',fontsize=14)\n",
    "ax1.set_ylim((62,84))\n",
    "ax2.set_ylabel('Average Precipitation',color='blue',fontsize=14)\n",
    "ax2.set_ylim((0,0.3))\n",
    "\n",
    "plt.grid(True,'minor','both')\n",
    "plt.title('Ohau Climate Analysis - Averages',fontsize=18)\n",
    "\n",
    "#ax.legend(handles=(['Temp','Rain'])\n",
    "fig.tight_layout()\n",
    "plt.show()\n",
    "\n",
    "#save the plot as a file\n",
    "fig.savefig('readme_resources/year_average.png',  \n",
    "            format='png',\n",
    "            dpi=100,\n",
    "            bbox_inches='tight')"
   ]
  },
  {
   "cell_type": "code",
   "execution_count": 20,
   "metadata": {},
   "outputs": [
    {
     "data": {
      "image/png": "[encoded data removed]",
      "text/plain": [
       "<Figure size 432x288 with 2 Axes>"
      ]
     },
     "metadata": {
      "needs_background": "light"
     },
     "output_type": "display_data"
    }
   ],
   "source": [
    "# create figure and axis objects with subplots()\n",
    "fig,ax1=plt.subplots()\n",
    "ax2 = ax1.twinx()\n",
    "\n",
    "xaxis = proj_df.index.values.tolist()\n",
    "xaxis = proj_df.index.str[:3]\n",
    "# yaxis = proj_df.t_mean.values.tolist()\n",
    "# yaxis2 = proj_df.p_mean.values.tolist()\n",
    "\n",
    "yaxis = proj_df.t_min.values.tolist()\n",
    "ax1.plot(xaxis,yaxis,color='red',marker='s')\n",
    "\n",
    "yaxis2 = proj_df.p_max.values.tolist()\n",
    "ax2.plot(xaxis,yaxis2,color='blue',marker='o')\n",
    "\n",
    "ax1.set_ylabel('Lowest Temp',color='red',fontsize=14)\n",
    "ax1.set_ylim((50,70))\n",
    "ax2.set_ylabel('Most Precipitation',color='blue',fontsize=14)\n",
    "ax2.set_ylim((0,12))\n",
    "\n",
    "plt.grid(True,'minor','both')\n",
    "plt.title('Ohau Climate Analysis - Historic Outliers',fontsize=16)\n",
    "\n",
    "#ax.legend(handles=(['Temp','Rain'])\n",
    "fig.tight_layout()\n",
    "plt.show()\n",
    "\n",
    "#save the plot as a file\n",
    "fig.savefig('readme_resources/outliers.png',  \n",
    "            format='png',\n",
    "            dpi=100,\n",
    "            bbox_inches='tight')"
   ]
  },
  {
   "cell_type": "code",
   "execution_count": null,
   "metadata": {},
   "outputs": [],
   "source": []
  }
 ],
 "metadata": {
  "kernelspec": {
   "display_name": "PythonData",
   "language": "python",
   "name": "pythondata"
  },
  "language_info": {
   "codemirror_mode": {
    "name": "ipython",
    "version": 3
   },
   "file_extension": ".py",
   "mimetype": "text/x-python",
   "name": "python",
   "nbconvert_exporter": "python",
   "pygments_lexer": "ipython3",
   "version": "3.8.10"
  }
 },
 "nbformat": 4,
 "nbformat_minor": 2
}
